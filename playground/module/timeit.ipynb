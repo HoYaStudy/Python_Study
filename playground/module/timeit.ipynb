{
  "cells": [
    {
      "cell_type": "markdown",
      "metadata": {
        "id": "AYOV103EVR4M",
        "colab_type": "text"
      },
      "source": [
        "# `timeit` module (Measure execution time of small code snippets)\n",
        "\n",
        "This module provides a simple way to time small bits of Python code."
      ]
    },
    {
      "cell_type": "code",
      "metadata": {
        "id": "HZsCeBR0WbBI",
        "colab_type": "code",
        "colab": {}
      },
      "source": [
        "import timeit"
      ],
      "execution_count": null,
      "outputs": []
    },
    {
      "cell_type": "code",
      "metadata": {
        "id": "IKhdCaN0PHdP",
        "colab_type": "code",
        "colab": {}
      },
      "source": [
        "timeit.timeit(\"obj.method()\", \"\"\"\n",
        "class TestClass:\n",
        "    def method(self):\n",
        "        pass\n",
        "obj = TestClass()\n",
        "\"\"\")"
      ],
      "execution_count": null,
      "outputs": []
    },
    {
      "cell_type": "code",
      "metadata": {
        "id": "0lZuRwZMWQeY",
        "colab_type": "code",
        "colab": {}
      },
      "source": [
        "timeit.timeit(\"f()\", \"\"\"\n",
        "def f():    \n",
        "    pass\n",
        "\"\"\")"
      ],
      "execution_count": null,
      "outputs": []
    },
    {
      "cell_type": "code",
      "metadata": {
        "id": "m21OroaqfHsS",
        "colab_type": "code",
        "colab": {}
      },
      "source": [
        "setup = \"\"\"\n",
        "import random\n",
        "\n",
        "random.seed(\"melong\")\n",
        "s = [random.random() for i in range(1000)]\n",
        "timsort = list.sort\n",
        "\"\"\"\n",
        "\n",
        "print(min(timeit.Timer(\"a=s[:]; timsort(a)\", setup=setup).repeat(7, 1000)))"
      ],
      "execution_count": null,
      "outputs": []
    },
    {
      "cell_type": "code",
      "metadata": {
        "id": "9hN62jR5W-EI",
        "colab_type": "code",
        "colab": {}
      },
      "source": [
        "def test():\n",
        "    \"\"\"Stupid test function\"\"\"\n",
        "    L = [i for i in range(100)]\n",
        "\n",
        "if __name__ == \"__main__\":\n",
        "    import timeit\n",
        "    print(timeit.timeit(\"test()\", setup=\"from __main__ import test\"))"
      ],
      "execution_count": null,
      "outputs": []
    },
    {
      "cell_type": "code",
      "metadata": {
        "id": "HMPSdQricmiw",
        "colab_type": "code",
        "colab": {}
      },
      "source": [
        "def f(x):\n",
        "    return x**2\n",
        "\n",
        "def g(x):\n",
        "    return x**4\n",
        "    \n",
        "def h(x):\n",
        "    return x**8\n",
        "\n",
        "print(timeit.timeit(\"[func(42) for func in (f,g,h)]\", globals=globals()))"
      ],
      "execution_count": null,
      "outputs": []
    },
    {
      "cell_type": "markdown",
      "metadata": {},
      "source": [
        "## Magic Function `%time` and `%timeit`\n",
        "\n",
        "Time execution of a Python statement or expression.\n",
        "\n",
        "The CPU and wall clock times are printed, and the value of the expression (if any) is returned. Note that under Win32, system time is always reported as 0, since it can not be measured.\n",
        "\n",
        "This function can be used both as a line and cell magic:\n",
        "\n",
        "* In line mode you can time a single-line statement (though multiple ones can be chained with using semicolons).\n",
        "* In cell mode, you can time the cell body (a directly following statement raises an error).\n",
        "\n",
        "This function provides very basic timing functionality. Use the timeit magic for more control over the measurement."
      ]
    },
    {
      "cell_type": "code",
      "execution_count": null,
      "metadata": {},
      "outputs": [],
      "source": [
        "%time 2**128"
      ]
    },
    {
      "cell_type": "code",
      "execution_count": null,
      "metadata": {},
      "outputs": [],
      "source": [
        "n = 1000000\n",
        "print(sum(range(n)))\n",
        "%time"
      ]
    },
    {
      "cell_type": "code",
      "execution_count": null,
      "metadata": {},
      "outputs": [],
      "source": [
        "%timeit 2**128"
      ]
    },
    {
      "cell_type": "markdown",
      "metadata": {},
      "source": [
        "## Reference\n",
        "\n",
        "* https://docs.python.org/3.9/library/timeit.html"
      ]
    }
  ],
  "metadata": {
    "colab": {
      "name": "timeit.ipynb",
      "provenance": [],
      "private_outputs": true,
      "collapsed_sections": []
    },
    "kernelspec": {
      "name": "python3",
      "display_name": "Python 3"
    }
  },
  "nbformat": 4,
  "nbformat_minor": 0
}