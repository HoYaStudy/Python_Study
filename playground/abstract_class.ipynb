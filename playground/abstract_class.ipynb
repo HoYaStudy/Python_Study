{
  "cells": [
    {
      "cell_type": "markdown",
      "metadata": {
        "id": "pSAPRRUe--TB",
        "colab_type": "text"
      },
      "source": [
        "# Abstract Class\n",
        "\n",
        "Abstract class is the class that has only method list.\n",
        "\n",
        "Abstract class can't make an instance.\n",
        "\n",
        "Inherited class must implement all abstract method."
      ]
    },
    {
      "cell_type": "markdown",
      "metadata": {
        "id": "zwT4jz_x_OSM",
        "colab_type": "text"
      },
      "source": [
        "## Import module"
      ]
    },
    {
      "cell_type": "code",
      "metadata": {
        "id": "YIfQblwe-6sc",
        "colab_type": "code",
        "colab": {}
      },
      "source": [
        "from abc import *"
      ],
      "execution_count": null,
      "outputs": []
    },
    {
      "cell_type": "markdown",
      "metadata": {
        "id": "4VPM3SUK_St8",
        "colab_type": "text"
      },
      "source": [
        "## Abstract Class Declaration"
      ]
    },
    {
      "cell_type": "code",
      "metadata": {
        "id": "vLjtNGa-_WG2",
        "colab_type": "code",
        "colab": {}
      },
      "source": [
        "class AbstractClass(metaclass=ABCMeta):     # abc.ABCMeta\n",
        "    @abstractmethod     # @abc.abstractmethod\n",
        "    def abstract_method1(self):\n",
        "        pass\n",
        "\n",
        "    @abstractmethod     # @abc.abstractmethod\n",
        "    def abstract_method2(self):\n",
        "        pass\n",
        "\n",
        "# obj = AbstractClass()     => Error!"
      ],
      "execution_count": null,
      "outputs": []
    },
    {
      "cell_type": "markdown",
      "metadata": {
        "id": "vzlW2etC_z3Z",
        "colab_type": "text"
      },
      "source": [
        "## Abstract Class Inheritance"
      ]
    },
    {
      "cell_type": "code",
      "metadata": {
        "id": "VymSUIcs_iIi",
        "colab_type": "code",
        "colab": {}
      },
      "source": [
        "class ChildClass(AbstractClass):\n",
        "    def abstract_method1(self):\n",
        "        print(\"abstract method 1\")\n",
        "    \n",
        "    # Must implement abstract_method2\n",
        "\n",
        "# obj = ChildClass()    => Error!"
      ],
      "execution_count": null,
      "outputs": []
    },
    {
      "cell_type": "code",
      "metadata": {
        "id": "cFOP9hsWAOS4",
        "colab_type": "code",
        "colab": {}
      },
      "source": [
        "class ChildClass(AbstractClass):\n",
        "    def abstract_method1(self):\n",
        "        print(\"abstract method 1\")\n",
        "    \n",
        "    def abstract_method2(self):\n",
        "        print(\"abstract method 2\")\n",
        "\n",
        "obj = ChildClass()\n",
        "obj.abstract_method1()\n",
        "obj.abstract_method2()"
      ],
      "execution_count": null,
      "outputs": []
    }
  ],
  "metadata": {
    "colab": {
      "name": "abstract class.ipynb",
      "provenance": [],
      "private_outputs": true,
      "collapsed_sections": []
    },
    "kernelspec": {
      "name": "python3",
      "display_name": "Python 3"
    }
  },
  "nbformat": 4,
  "nbformat_minor": 0
}