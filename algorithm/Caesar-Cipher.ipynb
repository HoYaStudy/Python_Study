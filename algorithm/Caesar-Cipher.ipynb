{
 "cells": [
  {
   "cell_type": "markdown",
   "metadata": {},
   "source": [
    "# Caesar Cipher\n",
    "\n",
    "Alphabet을 측정 숫자만큼 shift 하는 암호화 방법이다.\n",
    "\n",
    "> ex) 5개 shift\n",
    "> In: Hello\n",
    "> Out: Mjqqt"
   ]
  },
  {
   "cell_type": "code",
   "execution_count": 2,
   "metadata": {},
   "outputs": [],
   "source": [
    "# Definitions\n",
    "SHIFT = 1"
   ]
  },
  {
   "cell_type": "code",
   "execution_count": 3,
   "metadata": {},
   "outputs": [],
   "source": [
    "def encrypt(raw):\n",
    "    ret = ''\n",
    "    for char in raw:\n",
    "        ret += chr(ord(char) + SHIFT)\n",
    "    return ret"
   ]
  },
  {
   "cell_type": "code",
   "execution_count": 4,
   "metadata": {},
   "outputs": [],
   "source": [
    "def decrypt(raw):\n",
    "    ret = ''\n",
    "    for char in raw:\n",
    "        ret += chr(ord(char) - SHIFT)\n",
    "    return ret"
   ]
  },
  {
   "cell_type": "code",
   "execution_count": 5,
   "metadata": {},
   "outputs": [
    {
     "name": "stdout",
     "output_type": "stream",
     "text": [
      "input: hello\n",
      "Encrypted: ifmmp\n",
      "Decrypted: hello\n"
     ]
    }
   ],
   "source": [
    "raw = input('input: ')\n",
    "encrypted = encrypt(raw)\n",
    "print('Encrypted: ' + encrypted)\n",
    "decrypted = decrypt(encrypted)\n",
    "print('Decrypted: ' + decrypted)"
   ]
  }
 ],
 "metadata": {
  "kernelspec": {
   "display_name": "Python 3",
   "language": "python",
   "name": "python3"
  },
  "language_info": {
   "codemirror_mode": {
    "name": "ipython",
    "version": 3
   },
   "file_extension": ".py",
   "mimetype": "text/x-python",
   "name": "python",
   "nbconvert_exporter": "python",
   "pygments_lexer": "ipython3",
   "version": "3.7.0"
  }
 },
 "nbformat": 4,
 "nbformat_minor": 2
}
